{
 "cells": [
  {
   "cell_type": "code",
   "execution_count": 1,
   "id": "16e4da47-6b82-4424-b6cd-240c3b028069",
   "metadata": {},
   "outputs": [],
   "source": [
    "import asyncio\n",
    "import nest_asyncio\n",
    "import os\n",
    "import sys\n",
    "\n",
    "from dotenv import load_dotenv\n",
    "from langchain.document_loaders import AsyncChromiumLoader\n",
    "from langchain.document_transformers import Html2TextTransformer\n",
    "from langchain.text_splitter import RecursiveCharacterTextSplitter\n",
    "from openai import OpenAI\n",
    "\n",
    "load_dotenv()\n",
    "api_key = os.getenv('OPENAI_API_KEY')\n",
    "os.environ['OPENAI_API_KEY'] = api_key"
   ]
  },
  {
   "cell_type": "code",
   "execution_count": 2,
   "id": "8fe7e264-f2fb-48a8-b3f5-97c31c2faefe",
   "metadata": {},
   "outputs": [],
   "source": [
    "nest_asyncio.apply()"
   ]
  },
  {
   "cell_type": "code",
   "execution_count": 3,
   "id": "0f8908b1-54d7-4500-9b27-c6f29e657ae0",
   "metadata": {},
   "outputs": [],
   "source": [
    "urls=[\n",
    "    \"https://www.spirit.com/\",\n",
    "    \"https://www.spirit.com/s/about_us\",\n",
    "    # \"https://foundation.spirit.com/es-US/foundation/?_gl=1*1y7b1nj*_gcl_au*MTg3NTczMzE1NC4xNzM3MDQxNzkw*_ga*NjQ4NzA5MjgzLjE3MzcwNDE3OTA.*_ga_VKEG2ZBNZ5*MTczNzE0NjU0My40LjAuMTczNzE0NjU0NC41OS4wLjMzMTI1NzM3MQ..\",\n",
    "    # \"https://www.spirit.com/free-spirit\",\n",
    "    # \"https://www.spirit.com/savers-club\",\n",
    "    # \"https://www.spirit.com/press-release\"\n",
    "    ]"
   ]
  },
  {
   "cell_type": "code",
   "execution_count": 4,
   "id": "534670b5-8033-4620-af11-d610066a61f2",
   "metadata": {},
   "outputs": [],
   "source": [
    "async def load_and_process_documents():\n",
    "    loader = AsyncChromiumLoader(urls)\n",
    "    tt = Html2TextTransformer()\n",
    "\n",
    "    docs = tt.transform_documents(loader.load())\n",
    "    print(docs)\n",
    "    \n",
    "    # Dividir los documentos en chunks más pequeños\n",
    "    ts = RecursiveCharacterTextSplitter(chunk_size=2000, chunk_overlap=0)\n",
    "    fd = ts.split_documents(docs)\n",
    "    \n",
    "    return fd"
   ]
  },
  {
   "cell_type": "code",
   "execution_count": 5,
   "id": "4fa83252-1d7f-48f3-9d98-6e336666c227",
   "metadata": {},
   "outputs": [
    {
     "name": "stderr",
     "output_type": "stream",
     "text": [
      "USER_AGENT environment variable not set, consider setting it to identify your requests.\n"
     ]
    },
    {
     "name": "stdout",
     "output_type": "stream",
     "text": [
      "[Document(metadata={'source': 'https://www.spirit.com/'}, page_content='Sign-In\\n\\n  * # >> Since \\n\\n#  >> Since\\n\\n  * 0 PTS\\n  * My Dashboard\\n  * Edit profile\\n  * Free spirit Status\\n  * Activity\\n  * Saver$ Club\\n  * Sign Out\\n\\nEspañol __\\n\\n  * Hi,\\n  * # >> Since \\n\\n#  >> Since\\n\\n  * 0 PTS\\n  * My Dashboard\\n  * Edit profile\\n  * Free spirit Status\\n  * Activity\\n  * Saver$ Club\\n  * Sign Out\\n\\nEspañol __\\n\\n  * Book\\n  * * * *\\n\\nMy Trips\\n\\n  * * * *\\n\\nCheck In\\n\\n  * * * *\\n\\nFlight Status\\n\\n  * * * *\\n\\nTravel Info\\n\\n __\\n\\n  * * * *\\n\\nLoyalty\\n\\n __\\n\\n  * * * *\\n\\nDeals\\n\\n __\\n\\n  * * * *\\n\\nContact Us\\n\\n  * * * *\\n\\n __Español\\n\\n  * Book\\n  * My Trips\\n  * Check In\\n  * Flight Status\\n  * Travel Info \\n\\nOnboard Experience\\n\\nWi-fi\\n\\n  * Loyalty \\n\\nFree Spirit®\\n\\nSaver$ Club\\n\\n  * Deals \\n\\nFlight Deals\\n\\nVacation Deals\\n\\n  * Contact Us \\n  * Sign-In __\\n\\n  * ES __\\n\\nSlide 1 of 1\\n\\nTravel Advisory: Los Angeles Area Wildfires\\n\\n  * FLIGHT \\n\\n  * BUNDLE & SAVE \\n\\n  * HOTEL \\n\\n  * CAR \\n\\n  * CRUISE \\n\\n__\\n\\n__\\n\\n1  __\\n\\n#### How many are traveling?\\n\\n####\\n\\n__\\n\\n__\\n\\n####\\n\\n__\\n\\n__\\n\\nHave a Promo Code?\\n\\n__\\n\\n__\\n\\n& __\\n\\nSat, January 18\\n\\nTue, January 21\\n\\n#### Choose Travel Dates\\n\\n Bundle & Save\\n\\nAdd a Hotel\\n\\nAdd a Car\\n\\nSEARCH FLIGHTS\\n\\nOptional Services & New Bag Prices\\n\\n* * *\\n\\n### FLYING, NOW IN 4 STYLES\\n\\nGo Big, Go Comfy, Go Savvy or Go with our four new travel options. Click to\\nsee how Frankie flies with us. #NotInTheMiddle\\n\\n __\\n\\n### NO CHANGE OR CANCEL FEES\\n\\nYou read that right. We have no change or cancel fees.\\n\\n__\\n\\n### WANT TO SAVE EVEN MORE?\\n\\nJoin Saver$ Club and get access to our lowest fares*, and discounts on bags,\\nseats, & more for you and up to 8 guests.\\n\\n__\\n\\n## Trip Planning __\\n\\n*Lowest Fare Guaranteed for fares on Spirit.com and the Spirit Airlines mobile app, for the same flight, on the same day and at the same time, at time of booking, and when Saver$ Club fare is offered along with a standard public fare. Must be a Saver$ Club member. Seats are limited. Additional terms and conditions apply. For general terms and conditions visit  Saver$ Club Terms and Conditions.  \\n\\nFree Spirit® World Elite Mastercard®\\n\\n####\\n\\n50,000 Bonus Points + $100 Flight Voucher online offer. Offers vary elsewhere.\\n\\nAPPLY NOW\\n\\nAPPLY NOW\\n\\n#### Get To Know Us __\\n\\n  * About Us\\n  * Spirit Charitable Foundation\\n  * Free Spirit®\\n  * Spirit Saver$ Club\\n  * Media Center\\n  * Investor Relations\\n  * Careers\\n  * Supplier Diversity\\n  * ESG\\n\\n#### Talk To Us __\\n\\n  * Help Center\\n  * Contact Us \\n  * Legal \\n  * Privacy Policy \\n  * Contract Of Carriage \\n  * Guest Service Plan \\n  * Tarmac Delay Plan \\n  * Your Privacy Choices \\n  * Spirit Go Forward \\n\\n#### Fly With Us __\\n\\n  * Book\\n  * Travel Agent\\n  * Group Travel\\n  * Where We Fly\\n  * Deals\\n\\n###  Get To Know Us\\n\\n  * About Us\\n  * Spirit Charitable Foundation\\n  * Free Spirit®\\n  * Spirit Saver$ Club\\n  * Media Center\\n  * Investor Relations\\n  * Careers\\n  * Supplier Diversity\\n  * ESG\\n\\n###  Talk To Us\\n\\n  * Help Center \\n  * Contact Us \\n  * Legal \\n  * Privacy Policy \\n  * Contract Of Carriage \\n  * Guest Service Plan \\n  * Tarmac Delay Plan \\n  * Your Privacy Choices \\n  * Spirit Go Forward \\n\\n###  Fly With Us\\n\\n  * Book\\n  * Travel Agent\\n  * Group Travel\\n  * Where We Fly\\n  * Deals\\n\\n###  Connect With Us\\n\\n  *   *   *   *   * \\n\\n### Download Our Mobile App\\n\\nCopyright © 2025 Spirit Airlines, Inc. All Rights Reserved.\\n\\n'), Document(metadata={'source': 'https://www.spirit.com/s/about_us'}, page_content='Sign-In\\n\\n  * # >> Since \\n\\n#  >> Since\\n\\n  * 0 PTS\\n  * My Dashboard\\n  * Edit profile\\n  * Free spirit Status\\n  * Activity\\n  * Saver$ Club \\n  * Sign Out\\n\\nEspañol __\\n\\n  * Hi,\\n  * # >> Since \\n\\n#  >> Since\\n\\n  * 0 PTS\\n  * My Dashboard\\n  * Edit profile\\n  * Free spirit Status\\n  * Activity\\n  * Saver$ Club \\n  * Sign Out\\n\\nEspañol __\\n\\n  * Book\\n  * * * *\\n\\nMy Trips\\n\\n  * * * *\\n\\nCheck In\\n\\n  * * * *\\n\\nFlight Status\\n\\n  * * * *\\n\\nTravel Info\\n\\n __\\n\\n  * * * *\\n\\nLoyalty\\n\\n __\\n\\n  * * * *\\n\\nDeals\\n\\n __\\n\\n  * * * *\\n\\nContact Us\\n\\n  * * * *\\n\\n __Español\\n\\n  * Book\\n  * My Trips\\n  * Check In\\n  * Flight Status\\n  * Travel Info \\n\\nOnboard Experience\\n\\nWi-fi\\n\\n  * Loyalty \\n\\nFree Spirit®\\n\\nSaver$ Club\\n\\n  * Deals \\n\\nFlight Deals\\n\\nVacation Deals\\n\\n  * Contact Us \\n  * Sign-In __\\n\\n  * ES __\\n\\nAbout Spirit\\n\\n#  About Spirit\\n\\nWe are dedicated to pairing great value with excellent service while  \\nre-imagining the airline experience. We make it possible for our Guests to\\nventure further, travel often and discover more than ever before.  We believe\\nit should be easy to take off and _Go_ have some fun.\\n\\n  * Frequently Asked Questions\\n\\n### We Live For More Go\\n\\nIt’s the big idea behind our business model, making it possible for more\\npeople to travel to more places, more often. And it’s what inspires us to\\nInvest In The Guest, going beyond low fares to discover more ways to make our\\nunique brand of customizable À La Smarte® travel a great experience too.\\nProviding More Go is why our all-Airbus and  fleet serves more than 90\\ndestinations across the U.S., Latin America and the Caribbean. More  Go is our\\npromise  to those who wish to be well-traveled, and those who want to travel\\nwell.\\n\\n###\\n\\n###\\n\\n###\\n\\n### Recognition\\n\\nWe have been recognized by Forbes as one of America\\'s Best Employers for\\nDiversity 2022 for our active efforts to create and celebrate a diverse\\nworkplace environment. We also won \"Best Airport Innovation\" in the 2021\\nAPEX/IFSA Awards for our groundbreaking Self-Bag Drop system with biometric\\nphoto matching, which speeds up the check-in process. For the fourth\\nconsecutive year, we received the FAA\\'s \"Aviation Maintenance Technician\\nDiamond Award of Excellence\".\\n\\n### The Giving Spirit\\n\\nWe also believe change starts by giving back. The   Spirit Charitable\\nFoundation   is committed to inspiring positive  change in the communities\\nwhere we live and work. We  invest in organizations that have a meaningful\\nsocial  impact on the lives of Children and Families, Service  Members and the\\nEnvironment, through Team Member  volunteerism, monetary and in-kind\\ndonations.\\u200b\\n\\n### Our Team Members\\n\\nFrom our Finance to Flight Operations, and Marketing to Airports, we offer\\ncompelling careers for unique thinkers to challenge us and help us challenge\\nthe status quo. As a brand that values diversity, equity, inclusion and\\nbelonging, we pride ourselves on creating opportunities for our Team Members\\nand Guests to experience the rich diversity and broad thinking that is the\\ncornerstone of Spirit’s culture. We make Spirit the place to build careers\\nthrough rich and diverse experience, and are committed to recruiting,\\ndeveloping and engaging a workforce that inspires people to bring their unique\\nperspective and strengths forward. \\u200b\\n\\n\\u200b\\n\\nTo join our team, please visit our **careers page**.\\n\\n### Spirit Provides\\n\\n• Ultra-low fares  \\n• Easy booking via spirit.com and the Spirit Mobile App  \\n• Reliable, on-time service  \\n• One of the U.S. youngest, most fuel-efficient fleets  \\n• Friendly Team Members  \\n• Deluxe leather seating  \\n• Airport self-bag tagging  \\n• Airport Self-Bag Drop\\n\\n### À La Smarte® Optional Services & Products\\n\\n• Onboard Wi-Fi  \\n• Carry-on and checked baggage  \\n• Assigned seats  \\n• Shortcut Security*  \\n• Travel insurance  \\n• Onboard beverages and snacks  \\n• Hotels, cars, vacation packages and cruises \\u200b\\n\\n*Available at select airports \\n\\n### Recognition\\n\\nWe have been recognized by Forbes as one of America\\'s Best Employers for\\nDiversity 2022 for our active efforts to create and celebrate a diverse\\nworkplace environment. We also won \"Best Airport Innovation\" in the 2021\\nAPEX/IFSA Awards for our groundbreaking Self-Bag Drop system with biometric\\nphoto matching, which speeds up the check-in process. For the fourth\\nconsecutive year, we received the FAA\\'s \"Aviation Maintenance Technician\\nDiamond Award of Excellence\".\\n\\n### The Giving Spirit\\n\\nWe also believe change starts by giving back. The   Spirit Charitable\\nFoundation   is committed to inspiring positive  change in the communities\\nwhere we live and work. We  invest in organizations that have a meaningful\\nsocial  impact on the lives of Children and Families, Service  Members and the\\nEnvironment, through Team Member  volunteerism, monetary and in-kind\\ndonations.\\u200b\\n\\n### Our Team Members\\n\\nFrom our Finance to Flight Operations, and Marketing to Airports, we offer\\ncompelling careers for unique thinkers to challenge us and help us challenge\\nthe status quo. As a brand that values diversity, equity, inclusion and\\nbelonging, we pride ourselves on creating opportunities for our Team Members\\nand Guests to experience the rich diversity and broad thinking that is the\\ncornerstone of Spirit’s culture. We make Spirit the place to build careers\\nthrough rich and diverse experience, and are committed to recruiting,\\ndeveloping and engaging a workforce that inspires people to bring their unique\\nperspective and strengths forward. \\u200b\\n\\n\\u200b\\n\\nTo join our team, please visit our **careers page**.\\n\\n### Spirit Provides\\n\\n• Ultra-low fares  \\n• Easy booking via spirit.com and the Spirit Mobile App  \\n• Reliable, on-time service  \\n• One of the U.S. youngest, most fuel-efficient fleets  \\n• Friendly Team Members  \\n• Deluxe leather seating  \\n• Airport self-bag tagging  \\n• Airport Self-Bag Drop\\n\\n### À La Smarte® Optional Services & Products\\n\\n• Onboard Wi-Fi  \\n• Carry-on and checked baggage  \\n• Assigned seats  \\n• Shortcut Security*  \\n• Travel insurance  \\n• Onboard beverages and snacks  \\n• Hotels, cars, vacation packages and cruises \\u200b\\n\\n*Available at select airports \\n\\n#### Get To Know Us __\\n\\n  * About Us\\n  * Spirit Charitable Foundation\\n  * Free Spirit®\\n  * Spirit Saver$ Club\\n  * Media Center\\n  * Investor Relations\\n  * Careers\\n  * Supplier Diversity\\n  * ESG\\n\\n#### Talk To Us __\\n\\n  * Help Center\\n  * Contact Us \\n  * Legal \\n  * Privacy Policy \\n  * Contract Of Carriage \\n  * Guest Service Plan \\n  * Tarmac Delay Plan \\n  * Your Privacy Choices \\n  * Spirit Go Forward \\n\\n#### Fly With Us __\\n\\n  * Book\\n  * Travel Agent\\n  * Group Travel\\n  * Where We Fly\\n  * Deals\\n\\n###  Get To Know Us\\n\\n  * About Us\\n  * Spirit Charitable Foundation\\n  * Free Spirit®\\n  * Spirit Saver$ Club\\n  * Media Center\\n  * Investor Relations\\n  * Careers\\n  * Supplier Diversity\\n  * ESG\\n\\n###  Talk To Us\\n\\n  * Help Center \\n  * Contact Us \\n  * Legal \\n  * Privacy Policy \\n  * Contract Of Carriage \\n  * Guest Service Plan \\n  * Tarmac Delay Plan \\n  * Your Privacy Choices \\n  * Spirit Go Forward \\n\\n###  Fly With Us\\n\\n  * Book\\n  * Travel Agent\\n  * Group Travel\\n  * Where We Fly\\n  * Deals\\n\\n###  Connect With Us\\n\\n  *   *   *   *   * \\n\\n### Download Our Mobile App\\n\\nCopyright © 2025 Spirit Airlines, Inc. All Rights Reserved.\\n\\n')]\n",
      "6\n"
     ]
    }
   ],
   "source": [
    "fd = await load_and_process_documents()\n",
    "print(len(fd))\n",
    "l = []\n",
    "client = OpenAI()"
   ]
  },
  {
   "cell_type": "code",
   "execution_count": 32,
   "id": "66735dcc-b36e-49db-bc06-b65c3a36ce2e",
   "metadata": {},
   "outputs": [
    {
     "name": "stdout",
     "output_type": "stream",
     "text": [
      "Here is a structured breakdown of the provided text:\n",
      "\n",
      "- Sign-In | Options | Access options like dashboard, edit profile, and sign out.\n",
      "- Programs | Free Spirit Status | Information regarding loyalty program status.\n",
      "- Programs | Saver$ Club | Membership program details.\n",
      "- Bookings | Options | Options for booking flights, hotels, cars, and cruises.\n",
      "- Flights | Booking Types | Options include Round Trip, One Way, Multi-City.\n",
      "- Passengers | Adults | Ages 18 and up.\n",
      "- Passengers | Children | Ages 0 to 17.\n",
      "- Special Offers | Promo Code | Option to apply a promo code for discounts.\n",
      "- Flight Search | Points | Show fares in points.\n",
      "- Travel Information | Depart & Return | Dates selection for travel.\n",
      "- Travel Information | Bundle & Save | Option to add a hotel or car to a flight booking.\n",
      "- Optional Services | Bag Prices | Information on new bag prices.\n",
      "- Travel Styles | Go Big, Go Comfy, Go Savvy | Four distinct travel options available.\n",
      "- Fees | No Change or Cancel Fees | Policy on change or cancel fees.\n",
      "- Savings | Saver$ Club | Access to lowest fares and discounts for members.\n",
      "- Travel Advisory | Wildfires | Information on Los Angeles area wildfires. \n",
      "\n",
      "This structured summary provides a clear view of the content based on key topics and subtopics.- Pricing | Lowest Fare Guaranteed | Applies to fares on Spirit.com and mobile app for same flight, day, and time at booking if Saver$ Club fare is offered along with a public fare.\n",
      "- Membership | Saver$ Club | To access the lowest fare guarantee, the customer must be a Saver$ Club member; conditions apply.\n",
      "- Credit Card | Free Spirit® World Elite Mastercard® | Offers 50,000 bonus points plus a $100 flight voucher with online application.\n",
      "- Company Information | Programs & Initiatives | Includes Spirit Charitable Foundation, Free Spirit®, Spirit Saver$ Club, Supplier Diversity, ESG.\n",
      "- Customer Service | Contact Options | Help available through Help Center, direct contact, and other service plans.\n",
      "- Travel Services | Booking | Options for booking include individual travel, travel agent services, group travel, and deal offers.\n",
      "- Technology | Mobile App | Encourages downloading the Spirit Airlines mobile app for convenient access to services.\n",
      "- Privacy | Cookie Policy | Website uses cookies, with options to reject targeting cookies or accept all.- Website Interaction | Cookie Storage and Use | Websites store or retrieve information mostly in the form of cookies to enhance functionality.\n",
      "- Website Interaction | Cookie Information | Cookies store data on preferences or devices, mainly to improve user experience.\n",
      "- Privacy Rights | Cookie Privacy | Users can choose not to allow certain types of cookies to protect their privacy.\n",
      "- Privacy Rights | Impact of Blocking Cookies | Blocking some cookies might affect website functionality and available services.\n",
      "- Website Performance | Performance & Analytics Cookies Use | These cookies help improve the website’s operation and layout.\n",
      "- Website Performance | Function of Analytics Tracking | Tracks user interactions, page visits, frequency, and origin of visitors.\n",
      "- Website Personalization | Personalization Cookies Purpose | These cookies enable enhanced functionality and personalization on the website.\n",
      "- Website Personalization | Impact of Disallowing Personalization Cookies | Disallowing these cookies may cause services not to function properly.- Targeted Advertising | Technology | Behavioral advertising cookies are set by third parties.\n",
      "- Targeted Advertising | Purpose | Used to deliver relevant ads, limit ad frequency, and measure ad campaign effectiveness.\n",
      "- Targeted Advertising | Function | Helps understand user behavior after viewing ads.\n",
      "- Non-Service Providers | Use of Cookies | May set cookies for their own purposes.\n",
      "- Functional Cookies | Role | Necessary for website functionality and cannot be turned off.\n",
      "- Functional Cookies | User Actions | Set in response to user actions like setting privacy preferences or logging in.\n",
      "- Functional Cookies | Impact of Blocking | Blocking may cause parts of the site to not work.- Company Information | About Spirit | Dedicated to great value and excellent service for a re-imagined airline experience.\n",
      "- Company Information | Guest Experience | Enables guests to venture further, travel often, and discover more.\n",
      "- Company Information | Service Philosophy | Encourages easy travel for fun and enjoyment.\n",
      "- Business Model | Vision | Committed to allowing more people to travel more places, more often.\n",
      "- Business Model | Customer Investment | Invests in guests by offering customizable travel experiences.\n",
      "- Fleet Information | Aircraft | Uses an all-Airbus fleet serving over 90 destinations.\n",
      "- Regional Operations | Destinations | Services destinations across the U.S., Latin America, and the Caribbean.\n",
      "- Brand Promise | More Go | Promises to facilitate well-traveled experiences for guests.- Recognition | Awards | Forbes recognized us as one of America's Best Employers for Diversity 2022.\n",
      "- Recognition | Innovation | Won \"Best Airport Innovation\" in the 2021 APEX/IFSA Awards for our Self-Bag Drop system.\n",
      "- Recognition | Excellence | Received the FAA's \"Aviation Maintenance Technician Diamond Award of Excellence\" for four consecutive years.\n",
      "\n",
      "- Community | Charitable Efforts | The Spirit Charitable Foundation invests in organizations that impact Children, Families, and Service Members through donations and volunteerism.\n",
      "  \n",
      "- Careers | Opportunities | Offers compelling careers across various departments for unique thinkers to challenge the status quo.\n",
      "- Careers | Diversity and Inclusion | Committed to diversity, equity, inclusion, and belonging, providing career building through rich experiences.\n",
      "- Careers | Recruitment Focus | Focuses on recruiting, developing, and engaging a workforce that encourages diverse perspectives and strengths.\n",
      "\n",
      "- Services | Travel | Provides ultra-low fares, easy booking via online platforms, and reliable on-time service.\n",
      "- Services | Fleet | Operates one of the U.S.’s youngest and most fuel-efficient fleets.\n",
      "- Services | Amenities | Offers features like friendly Team Members, deluxe leather seating, airport self-bag tagging, and Self-Bag Drop.\n",
      "\n",
      "- Services | Optional Services | Offers À La Smarte® optional services and products for enhanced travel experience.- Services | Features | Offers onboard Wi-Fi, beverages, and snacks.\n",
      "- Services | Baggage | Includes carry-on and checked baggage.\n",
      "- Services | Seating | Provides assigned seats for passengers.\n",
      "- Services | Security | Offers Shortcut Security at select airports.\n",
      "- Services | Insurance | Provides travel insurance options.\n",
      "- Additional Offers | Travel Packages | Includes hotels, cars, vacation packages, and cruises.\n",
      "\n",
      "- Recognition | Diversity Award | Recognized by Forbes as one of America's Best Employers for Diversity 2022.\n",
      "- Recognition | Innovation Award | Won \"Best Airport Innovation\" at the 2021 APEX/IFSA Awards for the Self-Bag Drop system with biometric photo matching.\n",
      "- Recognition | Maintenance Award | Received the FAA's \"Aviation Maintenance Technician Diamond Award of Excellence\" for the fourth consecutive year.\n",
      "\n",
      "- Corporate Responsibility | Community Engagement | Spirit Charitable Foundation inspires positive change in communities with a focus on children, families, service members, and the environment.\n",
      "- Corporate Responsibility | Donations and Volunteerism | Invests in organizations through monetary and in-kind donations and team member volunteerism.\n",
      "\n",
      "- Careers | Opportunities | Provides compelling careers across various departments like Finance, Flight Operations, and Marketing.\n",
      "- Careers | Company Culture | Values diversity, equity, inclusion, and belonging; promotes diverse experiences and perspectives.\n",
      "- Careers | Recruitment | Committed to recruiting, developing, and engaging a diverse workforce.\n",
      "- Careers | Application | Encourages interested individuals to visit their careers page for opportunities.- Services | Fare Options | Offers ultra-low fares.\n",
      "- Services | Booking | Easy booking via the Spirit website and mobile app.\n",
      "- Services | Reliability | Provides reliable, on-time service.\n",
      "- Fleet | Description | Operates one of the youngest, most fuel-efficient fleets in the U.S.\n",
      "- Customer Experience | Staff | Employs friendly team members.\n",
      "- Customer Experience | Seating | Features deluxe leather seating.\n",
      "- Airport Services | Self-Service | Offers airport self-bag tagging and self-bag drop.\n",
      "- À La Carte Services | Wi-Fi | Provides onboard Wi-Fi.\n",
      "- À La Carte Services | Luggage | Allows carry-on and checked baggage.\n",
      "- À La Carte Services | Seating | Offers assigned seating.\n",
      "- À La Carte Services | Security | Provides Shortcut Security at select airports.\n",
      "- À La Carte Services | Insurance | Offers travel insurance.\n",
      "- À La Carte Services | Refreshments | Sells onboard beverages and snacks.\n",
      "- Additional Offerings | Travel | Offers hotels, cars, vacation packages, and cruises.\n",
      "- Corporate | About Us | Information about Spirit Airlines and its initiatives.\n",
      "- Corporate | Charitable Efforts | Details on the Spirit Charitable Foundation.\n",
      "- Loyalty Programs | Memberships | Includes Free Spirit® and Spirit Saver$ Club.\n",
      "- Official Communication | Media | Features Media Center and Investor Relations.\n",
      "- Employment | Careers | Provides career opportunities.\n",
      "- Diversity | Supplier Opportunities | Focus on supplier diversity.\n",
      "- Sustainability | ESG | Details on environmental, social, and governance efforts.\n",
      "- Customer Support | Contact Methods | Access to Help Center and Contact Us.\n",
      "- Legal | Documentation | Legal information, Privacy Policy, and Contract of Carriage.\n",
      "- Customer Plans | Service Standards | Describes the Guest Service Plan and Tarmac Delay Plan.\n",
      "- Privacy | Options | Outlines privacy choices and Spirit Go Forward plan.\n",
      "- Bookings | Methods | Options to book via website, travel agent, or group travel.\n",
      "- Destinations | Flight Information | Information on where Spirit flies.\n",
      "- Deals | Promotions | Offers deals.\n",
      "- Technology | Mobile App | Encourages downloading the mobile app.\n"
     ]
    },
    {
     "ename": "",
     "evalue": "",
     "output_type": "error",
     "traceback": [
      "\u001b[1;31mnotebook controller is DISPOSED. \n",
      "\u001b[1;31mView Jupyter <a href='command:jupyter.viewOutput'>log</a> for further details."
     ]
    },
    {
     "ename": "",
     "evalue": "",
     "output_type": "error",
     "traceback": [
      "\u001b[1;31mnotebook controller is DISPOSED. \n",
      "\u001b[1;31mView Jupyter <a href='command:jupyter.viewOutput'>log</a> for further details."
     ]
    },
    {
     "ename": "",
     "evalue": "",
     "output_type": "error",
     "traceback": [
      "\u001b[1;31mnotebook controller is DISPOSED. \n",
      "\u001b[1;31mView Jupyter <a href='command:jupyter.viewOutput'>log</a> for further details."
     ]
    }
   ],
   "source": [
    "for xx in fd:\n",
    "    response = completion = client.chat.completions.create(\n",
    "    model=\"gpt-4o\",\n",
    "    messages=[\n",
    "        {\n",
    "            \"role\": \"system\",\n",
    "            \"content\": \"You are a highly intelligent assistant capable of breaking text into structured summaries.\"\n",
    "        },\n",
    "        {\n",
    "            \"role\": \"user\",\n",
    "            \"content\": (\n",
    "                \"Break down the following text into structured bullet points using the format: \"\n",
    "                \"'topic | subtopic | content'.\\n\\n\"\n",
    "                \"Guidelines:\\n\"\n",
    "                \"- Focus only on meaningful sentences.\\n\"\n",
    "                \"- Ignore headings, filler words, or unimportant details.\\n\"\n",
    "                \"- Use concise yet descriptive sentences for the 'content'.\\n\\n\"\n",
    "                \"Text to summarize:\\n\\n\"\n",
    "                f\"{xx}\"\n",
    "            )\n",
    "        }]\n",
    "    )\n",
    "    l.append(response.choices[0].message.content)\n",
    "\n",
    "print(\"\".join(l))"
   ]
  },
  {
   "cell_type": "code",
   "execution_count": 21,
   "id": "b741055f",
   "metadata": {},
   "outputs": [
    {
     "name": "stdout",
     "output_type": "stream",
     "text": [
      "Results saved to output.json\n"
     ]
    },
    {
     "ename": "",
     "evalue": "",
     "output_type": "error",
     "traceback": [
      "\u001b[1;31mnotebook controller is DISPOSED. \n",
      "\u001b[1;31mView Jupyter <a href='command:jupyter.viewOutput'>log</a> for further details."
     ]
    },
    {
     "ename": "",
     "evalue": "",
     "output_type": "error",
     "traceback": [
      "\u001b[1;31mnotebook controller is DISPOSED. \n",
      "\u001b[1;31mView Jupyter <a href='command:jupyter.viewOutput'>log</a> for further details."
     ]
    },
    {
     "ename": "",
     "evalue": "",
     "output_type": "error",
     "traceback": [
      "\u001b[1;31mnotebook controller is DISPOSED. \n",
      "\u001b[1;31mView Jupyter <a href='command:jupyter.viewOutput'>log</a> for further details."
     ]
    }
   ],
   "source": [
    "import json\n",
    "\n",
    "formatted_list = [item.replace(\"\\n\", \"\\n\") for item in l]\n",
    "\n",
    "with open(\"output.json\", \"w\", encoding=\"utf-8\") as f:\n",
    "    json.dump(formatted_list, f, ensure_ascii=False, indent=4)\n",
    "\n",
    "print(\"Results saved to output.json\")"
   ]
  }
 ],
 "metadata": {
  "kernelspec": {
   "display_name": ".venv",
   "language": "python",
   "name": "python3"
  },
  "language_info": {
   "codemirror_mode": {
    "name": "ipython",
    "version": 3
   },
   "file_extension": ".py",
   "mimetype": "text/x-python",
   "name": "python",
   "nbconvert_exporter": "python",
   "pygments_lexer": "ipython3",
   "version": "3.11.9"
  }
 },
 "nbformat": 4,
 "nbformat_minor": 5
}
